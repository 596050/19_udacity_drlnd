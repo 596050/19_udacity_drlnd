{
 "cells": [
  {
   "cell_type": "markdown",
   "metadata": {},
   "source": [
    "# Collaboration and Competition\n",
    "\n",
    "---\n",
    "\n",
    "In this notebook, you will learn how to use the Unity ML-Agents environment for the third project of the [Deep Reinforcement Learning Nanodegree](https://www.udacity.com/course/deep-reinforcement-learning-nanodegree--nd893) program.\n",
    "\n",
    "### 1. Load dependencies and function declaration\n",
    "\n",
    "We begin by importing the necessary packages and declaring the __ddpg__ algorithm executing function. "
   ]
  },
  {
   "cell_type": "code",
   "execution_count": 1,
   "metadata": {},
   "outputs": [],
   "source": [
    "#%% Imports & Function declaration\n",
    "# Standard imports\n",
    "import numpy as np\n",
    "import torch\n",
    "from collections import deque\n",
    "import matplotlib.pyplot as plt\n",
    "from unityagents import UnityEnvironment\n",
    "\n",
    "# Developed imports\n",
    "from ddpg import Agent\n",
    "\n",
    "# Parameters\n",
    "model_dir = 'models/'\n",
    "random_seed = 7\n",
    "\n",
    "\n",
    "def execute_ddpg(ddpg_agent: Agent, num_episodes: int = 3000, max_episode_t: int = 2000, learn_each : int = 5,\n",
    "                 consec_learn_iter: int = 10) -> list:\n",
    "    \"\"\"\n",
    "    DDPG - Execution Algorithm Implementation\n",
    "    :param ddpg_agent: agent in charge of controling both Actor and Critic neural networks behaviour\n",
    "    :param num_episodes: number of episodes the algorithm will train\n",
    "    :param max_episode_t: maximum number of time steps to play at each episode\n",
    "    :param learn_each: teps in a game before triggering the learning procedure\n",
    "    :param consec_learn_iter: number of consecutive learning iterations\n",
    "    :return: results obtained during the training procedure\n",
    "    \"\"\"\n",
    "    # 1| Initialization\n",
    "    global_score = []\n",
    "    global_score_deque = deque(maxlen=100)\n",
    "\n",
    "    # 2| Episode run\n",
    "    for i_episode in range(1, num_episodes + 1):\n",
    "\n",
    "        # 2.0| Initialization of episode\n",
    "        env_info = env.reset(train_mode=True)[brain_name]\n",
    "        states = env_info.vector_observations\n",
    "        scores = np.zeros(num_agents)\n",
    "        ddpg_agent.reset()\n",
    "\n",
    "        # 2.1| Episode Run\n",
    "        for t_step in range(max_episode_t):\n",
    "            # 2.1.1| Agent decision and interaction\n",
    "            actions = ddpg_agent.act(states)\n",
    "            env_info = env.step(actions)[brain_name]\n",
    "\n",
    "            # 2.1.2| Feedback on action\n",
    "            next_states = env_info.vector_observations\n",
    "            rewards = env_info.rewards\n",
    "            dones = env_info.local_done\n",
    "\n",
    "            # 2.1.3| Experience saving\n",
    "            for state, action, reward, next_state, done in zip(states, actions, rewards, next_states, dones):\n",
    "                ddpg_agent.memorize(state, action, reward, next_state, done)\n",
    "\n",
    "            # 2.1.4| Update values\n",
    "            scores += rewards\n",
    "            states = next_states\n",
    "\n",
    "            # 2.1.5| Agent learning\n",
    "            if t_step % learn_each == 0:\n",
    "                for _ in range(consec_learn_iter):\n",
    "                    ddpg_agent.trigger_learning()\n",
    "\n",
    "            # 2.1.6| Episode ending\n",
    "            if np.any(dones):\n",
    "                break\n",
    "\n",
    "        # 2.2| Episode post-processing\n",
    "        # 2.2.1| Scoring\n",
    "        global_score_deque.append(np.max(scores))\n",
    "        global_score.append(np.max(scores))\n",
    "\n",
    "        if i_episode % 10 == 0:\n",
    "            print('Episode {}\\tTotal Average Score: {:.2f}\\tMean: {:.2f}'.format(\n",
    "                    i_episode, np.mean(global_score_deque), np.mean(scores)))\n",
    "\n",
    "        if i_episode % 50 == 0:\n",
    "            torch.save(ddpg_agent.actor_local.state_dict(),\n",
    "                       model_dir + 'checkpoint__actor_local__episode_' + str(i_episode) + '.pth')\n",
    "            torch.save(ddpg_agent.actor_target.state_dict(),\n",
    "                       model_dir + 'checkpoint__actor_target__episode_' + str(i_episode) + '.pth')\n",
    "            torch.save(ddpg_agent.critic_local.state_dict(),\n",
    "                       model_dir + 'checkpoint__critic_local__episode_' + str(i_episode) + '.pth')\n",
    "            torch.save(ddpg_agent.critic_target.state_dict(),\n",
    "                       model_dir + 'checkpoint__critic_target__episode_' + str(i_episode) + '.pth')\n",
    "\n",
    "        if np.mean(global_score_deque) >= 0.5 and i_episode >= 100:\n",
    "            print('\\rEpisode employed for completing the challenge {}'.format(i_episode))\n",
    "\n",
    "            torch.save(ddpg_agent.actor_local.state_dict(),\n",
    "                       model_dir + 'checkpoint__actor_local__episode_' + str(i_episode) + '.pth')\n",
    "            torch.save(ddpg_agent.actor_target.state_dict(),\n",
    "                       model_dir + 'checkpoint__actor_target__episode_' + str(i_episode) + '.pth')\n",
    "            torch.save(ddpg_agent.critic_local.state_dict(),\n",
    "                       model_dir + 'checkpoint__critic_local__episode_' + str(i_episode) + '.pth')\n",
    "            torch.save(ddpg_agent.critic_target.state_dict(),\n",
    "                       model_dir + 'checkpoint__critic_target__episode_' + str(i_episode) + '.pth')\n",
    "            break\n",
    "\n",
    "    return global_score"
   ]
  },
  {
   "cell_type": "markdown",
   "metadata": {},
   "source": [
    "### 2. Examine the State and Action Spaces\n",
    "\n",
    "In this environment, two agents control rackets to bounce a ball over a net. If an agent hits the ball over the net, it receives a reward of +0.1.  If an agent lets a ball hit the ground or hits the ball out of bounds, it receives a reward of -0.01.  Thus, the goal of each agent is to keep the ball in play.\n",
    "\n",
    "The observation space consists of 8 variables corresponding to the position and velocity of the ball and racket. Two continuous actions are available, corresponding to movement toward (or away from) the net, and jumping. \n"
   ]
  },
  {
   "cell_type": "code",
   "execution_count": 2,
   "metadata": {},
   "outputs": [
    {
     "name": "stderr",
     "output_type": "stream",
     "text": [
      "INFO:unityagents:\n",
      "'Academy' started successfully!\n",
      "Unity Academy name: Academy\n",
      "        Number of Brains: 1\n",
      "        Number of External Brains : 1\n",
      "        Lesson number : 0\n",
      "        Reset Parameters :\n",
      "\t\t\n",
      "Unity brain name: TennisBrain\n",
      "        Number of Visual Observations (per agent): 0\n",
      "        Vector Observation space type: continuous\n",
      "        Vector Observation space size (per agent): 8\n",
      "        Number of stacked Vector Observation: 3\n",
      "        Vector Action space type: continuous\n",
      "        Vector Action space size (per agent): 2\n",
      "        Vector Action descriptions: , \n"
     ]
    }
   ],
   "source": [
    "#%% Load Tennis environment\n",
    "env = UnityEnvironment(file_name=\"Tennis_Linux_NoVis/Tennis.x86_64\")\n",
    "\n",
    "# Get brain information\n",
    "brain_name = env.brain_names[0]\n",
    "brain = env.brains[brain_name]\n",
    "action_size = brain.vector_action_space_size\n",
    "\n",
    "# Environment information\n",
    "env_info = env.reset(train_mode=False)[brain_name]\n",
    "state_size = env_info.vector_observations.shape[1]\n",
    "num_agents = len(env_info.agents)\n"
   ]
  },
  {
   "cell_type": "markdown",
   "metadata": {},
   "source": [
    "### 3. It's Your Turn!\n",
    "\n",
    "Now it's your turn to train your own agent to solve the environment!  When training the environment, set `train_mode=True`, so that the line for resetting the environment looks like the following:\n",
    "```python\n",
    "env_info = env.reset(train_mode=True)[brain_name]\n",
    "```"
   ]
  },
  {
   "cell_type": "code",
   "execution_count": 3,
   "metadata": {},
   "outputs": [
    {
     "name": "stdout",
     "output_type": "stream",
     "text": [
      "Episode 10\tTotal Average Score: 0.01\tMean: -0.00\n"
     ]
    },
    {
     "name": "stderr",
     "output_type": "stream",
     "text": [
      "/home/axel-engineer/Documents/19_udacity_drlnd/4_003_Project_Collaboration_Competition/ddpg.py:109: UserWarning: torch.nn.utils.clip_grad_norm is now deprecated in favor of torch.nn.utils.clip_grad_norm_.\n",
      "  torch.nn.utils.clip_grad_norm(self.critic_local.parameters(), 1)  # Gradient clipping applied\n"
     ]
    },
    {
     "name": "stdout",
     "output_type": "stream",
     "text": [
      "Episode 20\tTotal Average Score: 0.02\tMean: -0.00\n",
      "Episode 30\tTotal Average Score: 0.02\tMean: -0.00\n",
      "Episode 40\tTotal Average Score: 0.01\tMean: 0.05\n",
      "Episode 50\tTotal Average Score: 0.02\tMean: -0.00\n",
      "Episode 60\tTotal Average Score: 0.02\tMean: 0.05\n",
      "Episode 70\tTotal Average Score: 0.04\tMean: 0.05\n",
      "Episode 80\tTotal Average Score: 0.04\tMean: -0.00\n",
      "Episode 90\tTotal Average Score: 0.05\tMean: 0.05\n",
      "Episode 100\tTotal Average Score: 0.04\tMean: -0.00\n",
      "Episode 110\tTotal Average Score: 0.05\tMean: 0.20\n",
      "Episode 120\tTotal Average Score: 0.06\tMean: 0.25\n",
      "Episode 130\tTotal Average Score: 0.08\tMean: 0.25\n",
      "Episode 140\tTotal Average Score: 0.09\tMean: 0.05\n",
      "Episode 150\tTotal Average Score: 0.10\tMean: 0.15\n",
      "Episode 160\tTotal Average Score: 0.11\tMean: 0.10\n",
      "Episode 170\tTotal Average Score: 0.12\tMean: 0.10\n",
      "Episode 180\tTotal Average Score: 0.14\tMean: 0.05\n",
      "Episode 190\tTotal Average Score: 0.15\tMean: -0.00\n",
      "Episode 200\tTotal Average Score: 0.20\tMean: 0.15\n",
      "Episode 210\tTotal Average Score: 0.21\tMean: 0.30\n",
      "Episode 220\tTotal Average Score: 0.23\tMean: 0.25\n",
      "Episode 230\tTotal Average Score: 0.27\tMean: 0.80\n",
      "Episode 240\tTotal Average Score: 0.29\tMean: 0.25\n",
      "Episode 250\tTotal Average Score: 0.34\tMean: 0.15\n",
      "Episode 260\tTotal Average Score: 0.41\tMean: -0.00\n",
      "Episode 270\tTotal Average Score: 0.46\tMean: 0.95\n",
      "Episode 280\tTotal Average Score: 0.48\tMean: 1.10\n",
      "Episode 290\tTotal Average Score: 0.50\tMean: 0.90\n",
      "Episode employed for completing the challenge 292\n"
     ]
    },
    {
     "data": {
      "image/png": "[encoded data removed]",
      "text/plain": [
       "<Figure size 432x288 with 1 Axes>"
      ]
     },
     "metadata": {
      "needs_background": "light"
     },
     "output_type": "display_data"
    }
   ],
   "source": [
    "#%% DDPG - Agent Training\n",
    "agent = Agent(state_size=state_size, action_size=action_size, random_seed=random_seed)\n",
    "score = execute_ddpg(ddpg_agent=agent)\n",
    "\n",
    "# Plot results\n",
    "fig = plt.figure()\n",
    "ax = fig.add_subplot(111)\n",
    "plt.plot(np.arange(1, len(score)+1), score)\n",
    "plt.ylabel('Score')\n",
    "plt.xlabel('Episode #')\n",
    "plt.show()\n"
   ]
  },
  {
   "cell_type": "code",
   "execution_count": 4,
   "metadata": {},
   "outputs": [],
   "source": [
    "#%% Environment- Close\n",
    "env.close()"
   ]
  }
 ],
 "metadata": {
  "kernelspec": {
   "display_name": "drlnd",
   "language": "python",
   "name": "drlnd"
  },
  "language_info": {
   "codemirror_mode": {
    "name": "ipython",
    "version": 3
   },
   "file_extension": ".py",
   "mimetype": "text/x-python",
   "name": "python",
   "nbconvert_exporter": "python",
   "pygments_lexer": "ipython3",
   "version": "3.6.8"
  }
 },
 "nbformat": 4,
 "nbformat_minor": 2
}
